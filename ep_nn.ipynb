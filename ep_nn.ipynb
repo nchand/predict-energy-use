{
  "nbformat": 4,
  "nbformat_minor": 0,
  "metadata": {
    "colab": {
      "name": "ep_nn.ipynb",
      "provenance": [],
      "collapsed_sections": [],
      "toc_visible": true
    },
    "kernelspec": {
      "name": "python3",
      "display_name": "Python 3"
    },
    "accelerator": "GPU"
  },
  "cells": [
    {
      "cell_type": "code",
      "metadata": {
        "id": "EydO_HvWoSJR",
        "colab_type": "code",
        "colab": {}
      },
      "source": [
        "import pandas as pd\n",
        "import tensorflow as tf\n",
        "from keras.models import Sequential\n",
        "from keras.layers import Dense\n",
        "from keras.layers import LSTM\n",
        "import numpy as np\n",
        "import logging\n",
        "logger = tf.get_logger()\n",
        "logger.setLevel(logging.ERROR)"
      ],
      "execution_count": 0,
      "outputs": []
    },
    {
      "cell_type": "code",
      "metadata": {
        "id": "LJoSW_Vmo5iW",
        "colab_type": "code",
        "outputId": "0caf688b-045f-403a-dd9b-f149d6aa7c9b",
        "colab": {
          "base_uri": "https://localhost:8080/",
          "height": 224
        }
      },
      "source": [
        "df = pd.read_csv('./UCI_data.csv')\n",
        "df.pop('date')\n",
        "df.head()"
      ],
      "execution_count": 284,
      "outputs": [
        {
          "output_type": "execute_result",
          "data": {
            "text/html": [
              "<div>\n",
              "<style scoped>\n",
              "    .dataframe tbody tr th:only-of-type {\n",
              "        vertical-align: middle;\n",
              "    }\n",
              "\n",
              "    .dataframe tbody tr th {\n",
              "        vertical-align: top;\n",
              "    }\n",
              "\n",
              "    .dataframe thead th {\n",
              "        text-align: right;\n",
              "    }\n",
              "</style>\n",
              "<table border=\"1\" class=\"dataframe\">\n",
              "  <thead>\n",
              "    <tr style=\"text-align: right;\">\n",
              "      <th></th>\n",
              "      <th>T1</th>\n",
              "      <th>RH_1</th>\n",
              "      <th>T2</th>\n",
              "      <th>RH_2</th>\n",
              "      <th>T3</th>\n",
              "      <th>RH_3</th>\n",
              "      <th>T4</th>\n",
              "      <th>RH_4</th>\n",
              "      <th>T5</th>\n",
              "      <th>RH_5</th>\n",
              "      <th>T6</th>\n",
              "      <th>RH_6</th>\n",
              "      <th>T7</th>\n",
              "      <th>RH_7</th>\n",
              "      <th>T8</th>\n",
              "      <th>RH_8</th>\n",
              "      <th>T9</th>\n",
              "      <th>RH_9</th>\n",
              "      <th>T_out</th>\n",
              "      <th>Press_mm_hg</th>\n",
              "      <th>RH_out</th>\n",
              "      <th>Windspeed</th>\n",
              "      <th>Visibility</th>\n",
              "      <th>Tdewpoint</th>\n",
              "      <th>rv1</th>\n",
              "      <th>rv2</th>\n",
              "      <th>TARGET_energy</th>\n",
              "    </tr>\n",
              "  </thead>\n",
              "  <tbody>\n",
              "    <tr>\n",
              "      <th>0</th>\n",
              "      <td>22.200000</td>\n",
              "      <td>39.500000</td>\n",
              "      <td>20.566667</td>\n",
              "      <td>37.656667</td>\n",
              "      <td>22.230000</td>\n",
              "      <td>37.030000</td>\n",
              "      <td>22.318571</td>\n",
              "      <td>36.610000</td>\n",
              "      <td>20.633333</td>\n",
              "      <td>62.166667</td>\n",
              "      <td>8.823333</td>\n",
              "      <td>13.296667</td>\n",
              "      <td>21.00</td>\n",
              "      <td>29.318571</td>\n",
              "      <td>22.23</td>\n",
              "      <td>38.463333</td>\n",
              "      <td>19.926667</td>\n",
              "      <td>33.90</td>\n",
              "      <td>9.70</td>\n",
              "      <td>766.100000</td>\n",
              "      <td>65.5</td>\n",
              "      <td>3.500000</td>\n",
              "      <td>40.000000</td>\n",
              "      <td>3.350000</td>\n",
              "      <td>24.061869</td>\n",
              "      <td>24.061869</td>\n",
              "      <td>60</td>\n",
              "    </tr>\n",
              "    <tr>\n",
              "      <th>1</th>\n",
              "      <td>20.356667</td>\n",
              "      <td>37.126667</td>\n",
              "      <td>17.566667</td>\n",
              "      <td>40.230000</td>\n",
              "      <td>20.890000</td>\n",
              "      <td>37.663333</td>\n",
              "      <td>18.700000</td>\n",
              "      <td>36.260000</td>\n",
              "      <td>18.463333</td>\n",
              "      <td>43.560000</td>\n",
              "      <td>1.230000</td>\n",
              "      <td>78.963333</td>\n",
              "      <td>18.39</td>\n",
              "      <td>32.290000</td>\n",
              "      <td>21.00</td>\n",
              "      <td>43.400000</td>\n",
              "      <td>18.390000</td>\n",
              "      <td>41.09</td>\n",
              "      <td>0.30</td>\n",
              "      <td>740.333333</td>\n",
              "      <td>99.0</td>\n",
              "      <td>1.000000</td>\n",
              "      <td>41.333333</td>\n",
              "      <td>0.100000</td>\n",
              "      <td>4.622052</td>\n",
              "      <td>4.622052</td>\n",
              "      <td>50</td>\n",
              "    </tr>\n",
              "    <tr>\n",
              "      <th>2</th>\n",
              "      <td>20.926667</td>\n",
              "      <td>38.790000</td>\n",
              "      <td>21.100000</td>\n",
              "      <td>35.526667</td>\n",
              "      <td>21.600000</td>\n",
              "      <td>36.290000</td>\n",
              "      <td>21.000000</td>\n",
              "      <td>34.826667</td>\n",
              "      <td>18.100000</td>\n",
              "      <td>46.126667</td>\n",
              "      <td>6.033333</td>\n",
              "      <td>37.300000</td>\n",
              "      <td>21.29</td>\n",
              "      <td>27.566667</td>\n",
              "      <td>21.70</td>\n",
              "      <td>32.447500</td>\n",
              "      <td>19.390000</td>\n",
              "      <td>38.76</td>\n",
              "      <td>4.40</td>\n",
              "      <td>768.466667</td>\n",
              "      <td>72.0</td>\n",
              "      <td>6.000000</td>\n",
              "      <td>22.666667</td>\n",
              "      <td>-0.266667</td>\n",
              "      <td>5.635898</td>\n",
              "      <td>5.635898</td>\n",
              "      <td>80</td>\n",
              "    </tr>\n",
              "    <tr>\n",
              "      <th>3</th>\n",
              "      <td>18.290000</td>\n",
              "      <td>38.900000</td>\n",
              "      <td>17.290000</td>\n",
              "      <td>39.260000</td>\n",
              "      <td>18.390000</td>\n",
              "      <td>39.326667</td>\n",
              "      <td>16.100000</td>\n",
              "      <td>38.790000</td>\n",
              "      <td>16.100000</td>\n",
              "      <td>47.700000</td>\n",
              "      <td>4.595000</td>\n",
              "      <td>94.945000</td>\n",
              "      <td>16.20</td>\n",
              "      <td>33.590000</td>\n",
              "      <td>17.78</td>\n",
              "      <td>41.663333</td>\n",
              "      <td>15.800000</td>\n",
              "      <td>39.20</td>\n",
              "      <td>3.35</td>\n",
              "      <td>760.600000</td>\n",
              "      <td>82.0</td>\n",
              "      <td>5.500000</td>\n",
              "      <td>41.000000</td>\n",
              "      <td>0.500000</td>\n",
              "      <td>49.216445</td>\n",
              "      <td>49.216445</td>\n",
              "      <td>40</td>\n",
              "    </tr>\n",
              "    <tr>\n",
              "      <th>4</th>\n",
              "      <td>22.290000</td>\n",
              "      <td>42.333333</td>\n",
              "      <td>21.600000</td>\n",
              "      <td>40.433333</td>\n",
              "      <td>22.666667</td>\n",
              "      <td>43.363333</td>\n",
              "      <td>19.100000</td>\n",
              "      <td>40.900000</td>\n",
              "      <td>19.290000</td>\n",
              "      <td>50.745000</td>\n",
              "      <td>2.530000</td>\n",
              "      <td>92.190000</td>\n",
              "      <td>20.00</td>\n",
              "      <td>40.000000</td>\n",
              "      <td>23.10</td>\n",
              "      <td>46.090000</td>\n",
              "      <td>18.890000</td>\n",
              "      <td>43.73</td>\n",
              "      <td>3.20</td>\n",
              "      <td>738.900000</td>\n",
              "      <td>88.0</td>\n",
              "      <td>7.333333</td>\n",
              "      <td>56.000000</td>\n",
              "      <td>1.400000</td>\n",
              "      <td>47.617579</td>\n",
              "      <td>47.617579</td>\n",
              "      <td>60</td>\n",
              "    </tr>\n",
              "  </tbody>\n",
              "</table>\n",
              "</div>"
            ],
            "text/plain": [
              "          T1       RH_1         T2  ...        rv1        rv2  TARGET_energy\n",
              "0  22.200000  39.500000  20.566667  ...  24.061869  24.061869             60\n",
              "1  20.356667  37.126667  17.566667  ...   4.622052   4.622052             50\n",
              "2  20.926667  38.790000  21.100000  ...   5.635898   5.635898             80\n",
              "3  18.290000  38.900000  17.290000  ...  49.216445  49.216445             40\n",
              "4  22.290000  42.333333  21.600000  ...  47.617579  47.617579             60\n",
              "\n",
              "[5 rows x 27 columns]"
            ]
          },
          "metadata": {
            "tags": []
          },
          "execution_count": 284
        }
      ]
    },
    {
      "cell_type": "code",
      "metadata": {
        "id": "lvGApoqAZZCy",
        "colab_type": "code",
        "outputId": "e3286703-b6a6-436d-ade7-c106ec572b19",
        "colab": {
          "base_uri": "https://localhost:8080/",
          "height": 493
        }
      },
      "source": [
        "df.dtypes"
      ],
      "execution_count": 285,
      "outputs": [
        {
          "output_type": "execute_result",
          "data": {
            "text/plain": [
              "T1               float64\n",
              "RH_1             float64\n",
              "T2               float64\n",
              "RH_2             float64\n",
              "T3               float64\n",
              "RH_3             float64\n",
              "T4               float64\n",
              "RH_4             float64\n",
              "T5               float64\n",
              "RH_5             float64\n",
              "T6               float64\n",
              "RH_6             float64\n",
              "T7               float64\n",
              "RH_7             float64\n",
              "T8               float64\n",
              "RH_8             float64\n",
              "T9               float64\n",
              "RH_9             float64\n",
              "T_out            float64\n",
              "Press_mm_hg      float64\n",
              "RH_out           float64\n",
              "Windspeed        float64\n",
              "Visibility       float64\n",
              "Tdewpoint        float64\n",
              "rv1              float64\n",
              "rv2              float64\n",
              "TARGET_energy      int64\n",
              "dtype: object"
            ]
          },
          "metadata": {
            "tags": []
          },
          "execution_count": 285
        }
      ]
    },
    {
      "cell_type": "code",
      "metadata": {
        "id": "Uu_rr73z9Ltf",
        "colab_type": "code",
        "colab": {
          "base_uri": "https://localhost:8080/",
          "height": 493
        },
        "outputId": "5755161c-ab73-49b4-fe78-e62fe236a059"
      },
      "source": [
        "df.isnull().sum()"
      ],
      "execution_count": 286,
      "outputs": [
        {
          "output_type": "execute_result",
          "data": {
            "text/plain": [
              "T1               0\n",
              "RH_1             0\n",
              "T2               0\n",
              "RH_2             0\n",
              "T3               0\n",
              "RH_3             0\n",
              "T4               0\n",
              "RH_4             0\n",
              "T5               0\n",
              "RH_5             0\n",
              "T6               0\n",
              "RH_6             0\n",
              "T7               0\n",
              "RH_7             0\n",
              "T8               0\n",
              "RH_8             0\n",
              "T9               0\n",
              "RH_9             0\n",
              "T_out            0\n",
              "Press_mm_hg      0\n",
              "RH_out           0\n",
              "Windspeed        0\n",
              "Visibility       0\n",
              "Tdewpoint        0\n",
              "rv1              0\n",
              "rv2              0\n",
              "TARGET_energy    0\n",
              "dtype: int64"
            ]
          },
          "metadata": {
            "tags": []
          },
          "execution_count": 286
        }
      ]
    },
    {
      "cell_type": "code",
      "metadata": {
        "id": "ttZf8pkzPrLl",
        "colab_type": "code",
        "outputId": "d38e671e-1bcd-48f3-8eee-f74f032a9f33",
        "colab": {
          "base_uri": "https://localhost:8080/",
          "height": 34
        }
      },
      "source": [
        "train_data = df[1:1001]\n",
        "test_data = df[1002:2002]\n",
        "print(f'Training data: {len(train_data)} Test data: {len(test_data)} ')"
      ],
      "execution_count": 287,
      "outputs": [
        {
          "output_type": "stream",
          "text": [
            "Training data: 1000 Test data: 1000 \n"
          ],
          "name": "stdout"
        }
      ]
    },
    {
      "cell_type": "code",
      "metadata": {
        "id": "G5tjqkwC5Cex",
        "colab_type": "code",
        "outputId": "c2bbf908-ddb0-4e21-d0bf-4a59ead0e852",
        "colab": {
          "base_uri": "https://localhost:8080/",
          "height": 241
        }
      },
      "source": [
        "# Columns for temperature data\n",
        "col_temperature = [\"T1\",\"T2\",\"T3\",\"T4\",\"T5\",\"T6\",\"T7\",\"T8\",\"T9\"]\n",
        "# Columns for humidity data\n",
        "col_humidity = [\"RH_1\",\"RH_2\",\"RH_3\",\"RH_4\",\"RH_5\",\"RH_6\",\"RH_7\",\"RH_8\",\"RH_9\"]\n",
        "mean_T = []\n",
        "mean_RH = []\n",
        "for index, row in train_data.iterrows():\n",
        "    mean_T.append(row[col_temperature].mean())\n",
        "    mean_RH.append(row[col_humidity].mean())\n",
        "for i in col_temperature:\n",
        "  train_data.pop(i)\n",
        "for i in col_humidity:\n",
        "  train_data.pop(i)\n",
        "train_data['MEAN_T'] = mean_T\n",
        "train_data['MEAN_RH'] = mean_RH"
      ],
      "execution_count": 288,
      "outputs": [
        {
          "output_type": "stream",
          "text": [
            "/usr/local/lib/python3.6/dist-packages/ipykernel_launcher.py:14: SettingWithCopyWarning: \n",
            "A value is trying to be set on a copy of a slice from a DataFrame.\n",
            "Try using .loc[row_indexer,col_indexer] = value instead\n",
            "\n",
            "See the caveats in the documentation: https://pandas.pydata.org/pandas-docs/stable/user_guide/indexing.html#returning-a-view-versus-a-copy\n",
            "  \n",
            "/usr/local/lib/python3.6/dist-packages/ipykernel_launcher.py:15: SettingWithCopyWarning: \n",
            "A value is trying to be set on a copy of a slice from a DataFrame.\n",
            "Try using .loc[row_indexer,col_indexer] = value instead\n",
            "\n",
            "See the caveats in the documentation: https://pandas.pydata.org/pandas-docs/stable/user_guide/indexing.html#returning-a-view-versus-a-copy\n",
            "  from ipykernel import kernelapp as app\n"
          ],
          "name": "stderr"
        }
      ]
    },
    {
      "cell_type": "code",
      "metadata": {
        "id": "6SXbzHZpZvbT",
        "colab_type": "code",
        "outputId": "b07c8ed1-f884-4d63-f494-b2d7dfdcc55f",
        "colab": {
          "base_uri": "https://localhost:8080/",
          "height": 419
        }
      },
      "source": [
        "target = train_data.pop('TARGET_energy')\n",
        "dataset = tf.data.Dataset.from_tensor_slices((train_data.values, target.values))\n",
        "train_data"
      ],
      "execution_count": 289,
      "outputs": [
        {
          "output_type": "execute_result",
          "data": {
            "text/html": [
              "<div>\n",
              "<style scoped>\n",
              "    .dataframe tbody tr th:only-of-type {\n",
              "        vertical-align: middle;\n",
              "    }\n",
              "\n",
              "    .dataframe tbody tr th {\n",
              "        vertical-align: top;\n",
              "    }\n",
              "\n",
              "    .dataframe thead th {\n",
              "        text-align: right;\n",
              "    }\n",
              "</style>\n",
              "<table border=\"1\" class=\"dataframe\">\n",
              "  <thead>\n",
              "    <tr style=\"text-align: right;\">\n",
              "      <th></th>\n",
              "      <th>T_out</th>\n",
              "      <th>Press_mm_hg</th>\n",
              "      <th>RH_out</th>\n",
              "      <th>Windspeed</th>\n",
              "      <th>Visibility</th>\n",
              "      <th>Tdewpoint</th>\n",
              "      <th>rv1</th>\n",
              "      <th>rv2</th>\n",
              "      <th>MEAN_T</th>\n",
              "      <th>MEAN_RH</th>\n",
              "    </tr>\n",
              "  </thead>\n",
              "  <tbody>\n",
              "    <tr>\n",
              "      <th>1</th>\n",
              "      <td>0.300000</td>\n",
              "      <td>740.333333</td>\n",
              "      <td>99.000000</td>\n",
              "      <td>1.000000</td>\n",
              "      <td>41.333333</td>\n",
              "      <td>0.100000</td>\n",
              "      <td>4.622052</td>\n",
              "      <td>4.622052</td>\n",
              "      <td>17.220741</td>\n",
              "      <td>43.398148</td>\n",
              "    </tr>\n",
              "    <tr>\n",
              "      <th>2</th>\n",
              "      <td>4.400000</td>\n",
              "      <td>768.466667</td>\n",
              "      <td>72.000000</td>\n",
              "      <td>6.000000</td>\n",
              "      <td>22.666667</td>\n",
              "      <td>-0.266667</td>\n",
              "      <td>5.635898</td>\n",
              "      <td>5.635898</td>\n",
              "      <td>19.015556</td>\n",
              "      <td>36.403796</td>\n",
              "    </tr>\n",
              "    <tr>\n",
              "      <th>3</th>\n",
              "      <td>3.350000</td>\n",
              "      <td>760.600000</td>\n",
              "      <td>82.000000</td>\n",
              "      <td>5.500000</td>\n",
              "      <td>41.000000</td>\n",
              "      <td>0.500000</td>\n",
              "      <td>49.216445</td>\n",
              "      <td>49.216445</td>\n",
              "      <td>15.616111</td>\n",
              "      <td>45.930556</td>\n",
              "    </tr>\n",
              "    <tr>\n",
              "      <th>4</th>\n",
              "      <td>3.200000</td>\n",
              "      <td>738.900000</td>\n",
              "      <td>88.000000</td>\n",
              "      <td>7.333333</td>\n",
              "      <td>56.000000</td>\n",
              "      <td>1.400000</td>\n",
              "      <td>47.617579</td>\n",
              "      <td>47.617579</td>\n",
              "      <td>18.829630</td>\n",
              "      <td>48.865000</td>\n",
              "    </tr>\n",
              "    <tr>\n",
              "      <th>5</th>\n",
              "      <td>4.633333</td>\n",
              "      <td>770.866667</td>\n",
              "      <td>52.333333</td>\n",
              "      <td>2.333333</td>\n",
              "      <td>40.000000</td>\n",
              "      <td>-4.333333</td>\n",
              "      <td>16.431218</td>\n",
              "      <td>16.431218</td>\n",
              "      <td>18.784815</td>\n",
              "      <td>36.035185</td>\n",
              "    </tr>\n",
              "    <tr>\n",
              "      <th>...</th>\n",
              "      <td>...</td>\n",
              "      <td>...</td>\n",
              "      <td>...</td>\n",
              "      <td>...</td>\n",
              "      <td>...</td>\n",
              "      <td>...</td>\n",
              "      <td>...</td>\n",
              "      <td>...</td>\n",
              "      <td>...</td>\n",
              "      <td>...</td>\n",
              "    </tr>\n",
              "    <tr>\n",
              "      <th>996</th>\n",
              "      <td>3.400000</td>\n",
              "      <td>750.200000</td>\n",
              "      <td>90.000000</td>\n",
              "      <td>5.000000</td>\n",
              "      <td>27.000000</td>\n",
              "      <td>1.900000</td>\n",
              "      <td>3.557701</td>\n",
              "      <td>3.557701</td>\n",
              "      <td>16.525185</td>\n",
              "      <td>51.551852</td>\n",
              "    </tr>\n",
              "    <tr>\n",
              "      <th>997</th>\n",
              "      <td>11.700000</td>\n",
              "      <td>759.600000</td>\n",
              "      <td>75.000000</td>\n",
              "      <td>3.000000</td>\n",
              "      <td>29.000000</td>\n",
              "      <td>7.300000</td>\n",
              "      <td>17.066852</td>\n",
              "      <td>17.066852</td>\n",
              "      <td>22.690741</td>\n",
              "      <td>38.202222</td>\n",
              "    </tr>\n",
              "    <tr>\n",
              "      <th>998</th>\n",
              "      <td>17.733333</td>\n",
              "      <td>751.766667</td>\n",
              "      <td>80.666667</td>\n",
              "      <td>2.000000</td>\n",
              "      <td>40.000000</td>\n",
              "      <td>14.366667</td>\n",
              "      <td>1.802695</td>\n",
              "      <td>1.802695</td>\n",
              "      <td>24.091679</td>\n",
              "      <td>44.821473</td>\n",
              "    </tr>\n",
              "    <tr>\n",
              "      <th>999</th>\n",
              "      <td>11.550000</td>\n",
              "      <td>756.050000</td>\n",
              "      <td>88.333333</td>\n",
              "      <td>10.000000</td>\n",
              "      <td>37.833333</td>\n",
              "      <td>9.616667</td>\n",
              "      <td>27.987976</td>\n",
              "      <td>27.987976</td>\n",
              "      <td>19.262926</td>\n",
              "      <td>53.274704</td>\n",
              "    </tr>\n",
              "    <tr>\n",
              "      <th>1000</th>\n",
              "      <td>11.000000</td>\n",
              "      <td>744.300000</td>\n",
              "      <td>99.000000</td>\n",
              "      <td>1.000000</td>\n",
              "      <td>5.000000</td>\n",
              "      <td>10.900000</td>\n",
              "      <td>32.933898</td>\n",
              "      <td>32.933898</td>\n",
              "      <td>23.369312</td>\n",
              "      <td>47.954571</td>\n",
              "    </tr>\n",
              "  </tbody>\n",
              "</table>\n",
              "<p>1000 rows × 10 columns</p>\n",
              "</div>"
            ],
            "text/plain": [
              "          T_out  Press_mm_hg     RH_out  ...        rv2     MEAN_T    MEAN_RH\n",
              "1      0.300000   740.333333  99.000000  ...   4.622052  17.220741  43.398148\n",
              "2      4.400000   768.466667  72.000000  ...   5.635898  19.015556  36.403796\n",
              "3      3.350000   760.600000  82.000000  ...  49.216445  15.616111  45.930556\n",
              "4      3.200000   738.900000  88.000000  ...  47.617579  18.829630  48.865000\n",
              "5      4.633333   770.866667  52.333333  ...  16.431218  18.784815  36.035185\n",
              "...         ...          ...        ...  ...        ...        ...        ...\n",
              "996    3.400000   750.200000  90.000000  ...   3.557701  16.525185  51.551852\n",
              "997   11.700000   759.600000  75.000000  ...  17.066852  22.690741  38.202222\n",
              "998   17.733333   751.766667  80.666667  ...   1.802695  24.091679  44.821473\n",
              "999   11.550000   756.050000  88.333333  ...  27.987976  19.262926  53.274704\n",
              "1000  11.000000   744.300000  99.000000  ...  32.933898  23.369312  47.954571\n",
              "\n",
              "[1000 rows x 10 columns]"
            ]
          },
          "metadata": {
            "tags": []
          },
          "execution_count": 289
        }
      ]
    },
    {
      "cell_type": "code",
      "metadata": {
        "id": "IEl1y6Ebb2ae",
        "colab_type": "code",
        "outputId": "61d22f30-8821-4f75-8b32-7a3670b487d5",
        "colab": {
          "base_uri": "https://localhost:8080/",
          "height": 238
        }
      },
      "source": [
        "for f, t in dataset.take(5):\n",
        "  print ('Features: {}, Target: {}'.format(f, t))"
      ],
      "execution_count": 290,
      "outputs": [
        {
          "output_type": "stream",
          "text": [
            "Features: [3.00000000e-01 7.40333333e+02 9.90000000e+01 1.00000000e+00\n",
            " 4.13333333e+01 1.00000000e-01 4.62205205e+00 4.62205205e+00\n",
            " 1.72207407e+01 4.33981481e+01], Target: 50\n",
            "Features: [ 4.40000000e+00  7.68466667e+02  7.20000000e+01  6.00000000e+00\n",
            "  2.26666667e+01 -2.66666667e-01  5.63589782e+00  5.63589782e+00\n",
            "  1.90155556e+01  3.64037963e+01], Target: 80\n",
            "Features: [3.35000000e+00 7.60600000e+02 8.20000000e+01 5.50000000e+00\n",
            " 4.10000000e+01 5.00000000e-01 4.92164449e+01 4.92164449e+01\n",
            " 1.56161111e+01 4.59305556e+01], Target: 40\n",
            "Features: [  3.2        738.9         88.           7.33333333  56.\n",
            "   1.4         47.61757874  47.61757874  18.82962963  48.865     ], Target: 60\n",
            "Features: [  4.63333333 770.86666667  52.33333333   2.33333333  40.\n",
            "  -4.33333333  16.4312178   16.4312178   18.78481481  36.03518519], Target: 50\n"
          ],
          "name": "stdout"
        }
      ]
    },
    {
      "cell_type": "code",
      "metadata": {
        "id": "ocUr91SAcmxb",
        "colab_type": "code",
        "colab": {}
      },
      "source": [
        "train_dataset = dataset.shuffle(len(train_data)).batch(1)"
      ],
      "execution_count": 0,
      "outputs": []
    },
    {
      "cell_type": "code",
      "metadata": {
        "id": "AF88Yn40cN2k",
        "colab_type": "code",
        "colab": {}
      },
      "source": [
        "model = tf.keras.Sequential([\n",
        "  tf.keras.layers.Dense(20, activation='relu'),\n",
        "  tf.keras.layers.Dense(10, activation='relu'),\n",
        "  tf.keras.layers.Dense(1)\n",
        "])\n",
        "\n",
        "model.compile(optimizer='adam',loss='mean_squared_error',metrics=['accuracy'])  "
      ],
      "execution_count": 0,
      "outputs": []
    },
    {
      "cell_type": "code",
      "metadata": {
        "id": "ZQUZnL1wcQyD",
        "colab_type": "code",
        "outputId": "738c50a7-bfb0-4bde-ee24-5fe92c3fdd0f",
        "colab": {
          "base_uri": "https://localhost:8080/",
          "height": 374
        }
      },
      "source": [
        "model.fit(train_dataset, epochs=10)"
      ],
      "execution_count": 293,
      "outputs": [
        {
          "output_type": "stream",
          "text": [
            "Epoch 1/10\n",
            "1000/1000 [==============================] - 2s 2ms/step - loss: 12129.2637 - accuracy: 0.0000e+00\n",
            "Epoch 2/10\n",
            "1000/1000 [==============================] - 2s 2ms/step - loss: 9302.0234 - accuracy: 0.0000e+00\n",
            "Epoch 3/10\n",
            "1000/1000 [==============================] - 2s 2ms/step - loss: 9107.3506 - accuracy: 0.0000e+00\n",
            "Epoch 4/10\n",
            "1000/1000 [==============================] - 2s 2ms/step - loss: 9228.2080 - accuracy: 0.0000e+00\n",
            "Epoch 5/10\n",
            "1000/1000 [==============================] - 2s 2ms/step - loss: 9184.4639 - accuracy: 0.0000e+00\n",
            "Epoch 6/10\n",
            "1000/1000 [==============================] - 2s 2ms/step - loss: 9021.5225 - accuracy: 0.0000e+00\n",
            "Epoch 7/10\n",
            "1000/1000 [==============================] - 2s 2ms/step - loss: 9070.2910 - accuracy: 0.0000e+00\n",
            "Epoch 8/10\n",
            "1000/1000 [==============================] - 2s 2ms/step - loss: 9096.9512 - accuracy: 0.0000e+00\n",
            "Epoch 9/10\n",
            "1000/1000 [==============================] - 2s 2ms/step - loss: 9133.9697 - accuracy: 0.0000e+00\n",
            "Epoch 10/10\n",
            "1000/1000 [==============================] - 2s 2ms/step - loss: 9048.5723 - accuracy: 0.0000e+00\n"
          ],
          "name": "stdout"
        },
        {
          "output_type": "execute_result",
          "data": {
            "text/plain": [
              "<tensorflow.python.keras.callbacks.History at 0x7fa0b638e9b0>"
            ]
          },
          "metadata": {
            "tags": []
          },
          "execution_count": 293
        }
      ]
    }
  ]
}